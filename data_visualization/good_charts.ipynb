{
 "cells": [
  {
   "cell_type": "markdown",
   "metadata": {},
   "source": [
    "# Good Charts: The HBR Guide to Making Smarter, More Persuasive Data Vizualisation\n",
    "\n",
    "## Ch 2: When a chart hits our eyes\n",
    "5 ideas to know\n",
    "1. We don't go in order\n",
    " - people with different level of expertise in the subject matter will read through it differently\n",
    "2. We see first what stands out\n",
    " - peaks, valleys, intersections, dominant colors, outliers, clear trend\n",
    " - When drawing charts, ask, what will people look at first? Does that support what is important for them to know?\n",
    " - Eliminate distraction. Only show what you want to bring attention to\n",
    "3. We see only a few thing at once\n",
    " - We can't distinguish more than 8 colors at a time\n",
    "4. We seek meaning and make connections\n",
    " - The ability to find meaning so efficiently may be a blessing in a fire,but it can also lead us to construct false narratives from data visualizations.\n",
    " - This need to make sense of what we notice is so powerful that it extends to the subconscious.\n",
    " - We need to be careful of what to show in the chart. \n",
    "5. We rely on conventions and metaphors\n",
    " - e.g. north and south for a map, x and y position in graph \n",
    " - e.g. up is good, green is growth, similar color go together, saturation indicates progression of values"
   ]
  },
  {
   "cell_type": "markdown",
   "metadata": {},
   "source": [
    "## Ch 3: Two questions -> Four types\n",
    "1. Is the information conceptual or data-driven?\n",
    "2. Am I declaring something or exploring something?\n"
   ]
  },
  {
   "cell_type": "markdown",
   "metadata": {},
   "source": [
    "| --- | Conceptual | Data Driven |\n",
    "| --- | --- | --- |\n",
    "| Focus | Ideas | Statistics |\n",
    "| Goals | Simplify, teach | Inform, enlighten |"
   ]
  },
  {
   "cell_type": "markdown",
   "metadata": {},
   "source": [
    "![Conceptual](https://hbr.org/resources/images/article_assets/hbr/0801/R0801E_A.gif)\n",
    "\n",
    "![Data Driven](http://www.adweek.com/files/imagecache/node-detail/top-brands-01-2014.jpg)"
   ]
  },
  {
   "cell_type": "markdown",
   "metadata": {},
   "source": [
    "| --- | Declarative | Exploratory |\n",
    "| --- | --- | --- |\n",
    "| Focus | Documenting, designing | Prototyping, iterating, interacting, automating |\n",
    "| Goals | Affirm | Corroborate, discover |"
   ]
  },
  {
   "cell_type": "markdown",
   "metadata": {},
   "source": [
    "### The Four Types"
   ]
  },
  {
   "cell_type": "markdown",
   "metadata": {},
   "source": [
    "![The four types](https://i0.wp.com/blog.howardpchen.com/wp-content/uploads/2016/06/img_575cb158da12f.png?resize=402%2C407)"
   ]
  },
  {
   "cell_type": "markdown",
   "metadata": {},
   "source": [
    "##### Idea Illustration\n",
    "- 'consultants' corner\n",
    "- simplify complex ideas by drawing on people’s ability to understand metaphors (trees, bridges) and simple conventions (circles, hierarchies).\n",
    "- Focus on clear communication, structure, and the logic of the ideas."
   ]
  },
  {
   "cell_type": "markdown",
   "metadata": {},
   "source": [
    "| --- | Idea Illustration | \n",
    "| --- | --- |\n",
    "| Data/info type | Process, framework |\n",
    "| Viz type | Simple, metaphorical |\n",
    "| Viz features | Convention, metaphor |\n",
    "| Typical setting | Presentations, teaching |\n",
    "| Talent skew | Design, editing |\n",
    "| Goals | Learning, simplifying |"
   ]
  },
  {
   "cell_type": "markdown",
   "metadata": {},
   "source": [
    "![Clear graph](https://1.bp.blogspot.com/-x3GnS1-Z9Hk/VJF08Pqo3FI/AAAAAAAAAbE/IgEoJR4zJOI/s1600/PyramidSearch.png)"
   ]
  },
  {
   "cell_type": "markdown",
   "metadata": {},
   "source": [
    "##### Idea Generation\n",
    "- It happens at a whiteboard, or on butcher paper, or, classically, on the back of a napkin.\n",
    "- relies on conceptual metaphors and conventions, but it takes place in more-informal settings, such as off-sites, strategy sessions, and early-phase innovation projects."
   ]
  },
  {
   "cell_type": "markdown",
   "metadata": {},
   "source": [
    "| --- | Idea Generation | \n",
    "| --- | --- |\n",
    "| Data/info type | Complex, undefined |\n",
    "| Viz type | Creative, metaphorical |\n",
    "| Viz features | Convention, metaphor |\n",
    "| Typical setting | Working session, brainstorming |\n",
    "| Talent skew | Team-building, facilitation |\n",
    "| Goals | Learning, discovery, simplification |"
   ]
  },
  {
   "cell_type": "markdown",
   "metadata": {},
   "source": [
    "![Clear graph](https://hbr.org/resources/images/article_assets/2016/05/R1606H_BERINATO_E.png)\n"
   ]
  },
  {
   "cell_type": "markdown",
   "metadata": {},
   "source": [
    "##### Visual Discovery\n",
    "- it’s actually two categories\n",
    " - Visual confirmation\n",
    "   1. Is what I suspect is true actually true?\n",
    "   - What are some other ways of looking at this idea?\n",
    " -  Visual exploration\n",
    "   - might need novel ways to represent the data"
   ]
  },
  {
   "cell_type": "markdown",
   "metadata": {},
   "source": [
    "| --- | Visual Discovery | \n",
    "| --- | --- |\n",
    "| Data/info type | Complex, dynamic, big data |\n",
    "| Viz type | Advanced, unconventional |\n",
    "| Viz features | Interactive, auto-dynamic |\n",
    "| Typical setting | Working session, testing, analysis |\n",
    "| Talent skew | Business intelligence, programming, paired analysis|\n",
    "| Goals | Trend spotting, sense making, deep analysis |"
   ]
  },
  {
   "cell_type": "markdown",
   "metadata": {},
   "source": [
    "##### Everday Viz\n",
    "- The key: simple and relevant\n",
    " - How many year worth of data shold be shown?\n",
    " - How should the important events be represented?\n",
    " - What is the key point to drive across? can I get rid of any distractions?"
   ]
  },
  {
   "cell_type": "markdown",
   "metadata": {},
   "source": [
    "| --- | Everyday viz | \n",
    "| --- | --- |\n",
    "| Data/info type | Simple, low volume |\n",
    "| Viz type | Conventional, static |\n",
    "| Viz features | Clear point, simple narrative |\n",
    "| Typical setting | Formal, presentations |\n",
    "| Talent skew | Design, storytelling|\n",
    "| Goals | Affirm, set context |"
   ]
  },
  {
   "cell_type": "markdown",
   "metadata": {},
   "source": [
    "![Clear graph](https://hbr.org/resources/images/article_assets/2016/05/R1606H_BERINATO_M.png)\n",
    "\n"
   ]
  },
  {
   "cell_type": "markdown",
   "metadata": {},
   "source": [
    "## Ch 4: Better charts in a couple of hours\n",
    "- need good design execution and context setting"
   ]
  },
  {
   "cell_type": "markdown",
   "metadata": {},
   "source": [
    "| --- | Building better charts | \n",
    "| --- | --- |\n",
    "| 5 | Prep |\n",
    "| 15 | Talk and Listen |\n",
    "| 20 | Sketch |\n",
    "| 20 | Prototype |"
   ]
  },
  {
   "cell_type": "markdown",
   "metadata": {},
   "source": [
    "##### Prep\n",
    "- mental, physical, white space\n",
    "- write down the basics\n",
    " - what you'll call it\n",
    " - who it's for\n",
    " - what setting it will be used in\n",
    " - which of the four types of visualisation you're creating\n",
    " - where on the Good Charts Matrix between context and design you should aim"
   ]
  },
  {
   "cell_type": "markdown",
   "metadata": {},
   "source": [
    "##### Talk and listen\n",
    "- find a colleague or friend\n",
    "- talk about specific questions\n",
    " - what am I working on?\n",
    " - what am I trying to prove/ learn/ show?"
   ]
  },
  {
   "cell_type": "markdown",
   "metadata": {},
   "source": [
    "##### Sketch\n",
    "\n",
    "##### Prototype\n"
   ]
  },
  {
   "cell_type": "markdown",
   "metadata": {},
   "source": [
    "## Ch 5: Refine to impress\n",
    "- make it more effective and easier to understand"
   ]
  },
  {
   "cell_type": "markdown",
   "metadata": {},
   "source": [
    "1. To make charts feel neat or clean, focus on design structure and hierarchy:\n",
    " - Include four elements in all charts: title, subtitle, visual field, and source line.\n",
    " - Give each element a consistent weight.\n",
    " - Align elements: place them along as few horizontal and vertical lines as possible.\n",
    "\n",
    "2. For charts that just make sense or feel instantly understood, focus on design clarity.\n",
    " - Remove extraneous elements. Be aggressive. Take away as much as possible while maintaining the meaning.\n",
    " - Make all the elements support the visual. Use them to highlight the idea, not to describe the chart’s structure.\n",
    " - Remove ambiguity. Make sure each element has a single purpose that can’t be misinterpreted.\n",
    " - Use conventions and metaphors. Take advantage of ideas we don’t need to think about to understand, such as red is “hot” and blue is “cold.\n",
    "\n",
    "3. To make charts that look elegant or beautiful, focus on design simplicity.\n",
    " - Show only what’s needed. Every element should be necessary, unique, and rendered as simply as possible.\n",
    " - Avoid belt-and-suspenders design. One form of emphasis per element is enough.\n",
    " - Minimize the number of colors you use. Gray works for contextual and second-level information and for structural elements such as grid lines.\n",
    " - Limit eye travel. Place labels and legends in close proximity to what they describe."
   ]
  },
  {
   "cell_type": "markdown",
   "metadata": {},
   "source": [
    "# References\n",
    "- https://hbr.org/2016/06/visualizations-that-really-work\n",
    "- https://mschermann.github.io/data_viz_reader/how-to-run-a-data-visualization-project.html#how-to-structure-a-data-viz-project\n",
    "- http://web.mit.edu/zoya/www/docs/predImportance_final.pdf\n",
    "- good examples https://shawntorres.com/2019/06/17/the-greatest-beauty-lies-in-the-greatest-clarity/\n",
    "- https://visme.co/blog/best-data-visualizations/"
   ]
  },
  {
   "cell_type": "code",
   "execution_count": null,
   "metadata": {},
   "outputs": [],
   "source": []
  }
 ],
 "metadata": {
  "kernelspec": {
   "display_name": "Python 3",
   "language": "python",
   "name": "python3"
  },
  "language_info": {
   "codemirror_mode": {
    "name": "ipython",
    "version": 3
   },
   "file_extension": ".py",
   "mimetype": "text/x-python",
   "name": "python",
   "nbconvert_exporter": "python",
   "pygments_lexer": "ipython3",
   "version": "3.7.6"
  }
 },
 "nbformat": 4,
 "nbformat_minor": 4
}
