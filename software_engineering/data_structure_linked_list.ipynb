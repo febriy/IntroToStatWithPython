{
 "cells": [
  {
   "cell_type": "markdown",
   "metadata": {},
   "source": [
    "# Linked List"
   ]
  },
  {
   "cell_type": "markdown",
   "metadata": {},
   "source": [
    "| Built-in Data Structures | User-Defined Data Structures |\n",
    "| --- | --- | \n",
    "| List | Arrays vs. List |\n",
    "| Dictionary | Stack |\n",
    "| Tuple | Queue |\n",
    "| Sets | Trees |\n",
    "| - | Linked Lists |\n",
    "| - | Graphs |\n",
    "| - | HashMaps |"
   ]
  },
  {
   "cell_type": "markdown",
   "metadata": {},
   "source": [
    "## Linked Lists\n",
    "- In arrays, data is stored at contiguous memory locations\n",
    "- Linked liest stores value of the item and the reference or pointer to the next item. "
   ]
  },
  {
   "cell_type": "markdown",
   "metadata": {},
   "source": [
    "| Linked Lists | Arrays |\n",
    "| --- | --- | \n",
    "| Dynamic: memory reserved for the lst can be increased or reduced at runtime | Memory has to be allocated in advance for a specific number of items |\n",
    "| Easy to update (change the link to the next item) | Difficult to remove or insert an item in large arrays |\n",
    "| Extra memory for reference to next item |       |\n",
    "| Cannot access a linked list item directly, must start from the first item |       |"
   ]
  },
  {
   "cell_type": "markdown",
   "metadata": {},
   "source": [
    "### Single Linked Lists\n",
    "- Every node contains an item and reference to the next item\n",
    "- Now, we will create a node for the single linked list along with the functions for different types of insertion, traversal, deletion"
   ]
  },
  {
   "cell_type": "markdown",
   "metadata": {},
   "source": [
    "#### Creating the Node Class\n",
    "- Nodes will be inserted in the linked list\n",
    "- Node contains an item `item` and reference `ref`"
   ]
  },
  {
   "cell_type": "code",
   "execution_count": 11,
   "metadata": {},
   "outputs": [],
   "source": [
    "class Node:\n",
    "    def __init__(self, data):\n",
    "        self.item = data\n",
    "        self.ref = None"
   ]
  },
  {
   "cell_type": "markdown",
   "metadata": {},
   "source": [
    "#### Creating the Single Linked List Class\n",
    "- Contain methods to insert, remove, traverse, sort the list\n",
    "- Initially, only contain `start_node`\n",
    "- Then we will add insertion function\n",
    "- Before that, need a function to traverse a linked list\n",
    " - Traverse function allows us to read the data in the list"
   ]
  },
  {
   "cell_type": "code",
   "execution_count": 12,
   "metadata": {},
   "outputs": [],
   "source": [
    "class LinkedList:\n",
    "    def __init__(self):\n",
    "        self.start_node = None"
   ]
  },
  {
   "cell_type": "markdown",
   "metadata": {},
   "source": [
    "#### Traversing Linked List Items"
   ]
  },
  {
   "cell_type": "code",
   "execution_count": null,
   "metadata": {},
   "outputs": [],
   "source": [
    "def traverse_list(self):\n",
    "    # Check if list is empty or not\n",
    "    if self.start_node is None:\n",
    "        print(\"List has no element\")\n",
    "        return\n",
    "    else:\n",
    "        # initialise variable n with start variable\n",
    "        # execute a loop that executes until n becomes none\n",
    "        # print item stored at current node\n",
    "        # set value of n variable to n.ref, \n",
    "        # which contains reference to the next node\n",
    "        # Last node will be None\n",
    "        n = self.start_node\n",
    "        while n is not None:\n",
    "            print(n.item , \" \")\n",
    "            n = n.ref"
   ]
  },
  {
   "cell_type": "markdown",
   "metadata": {},
   "source": [
    "#### Inserting Items: at the Beginning"
   ]
  },
  {
   "cell_type": "code",
   "execution_count": 13,
   "metadata": {},
   "outputs": [],
   "source": [
    "def insert_at_start(self, data):\n",
    "    # create a new node\n",
    "    new_node = Node(data)\n",
    "    # set reference to the previous start_node\n",
    "    new_node.ref = self.start_node\n",
    "    # set new_node as start_node\n",
    "    self.start_node= new_node"
   ]
  },
  {
   "cell_type": "markdown",
   "metadata": {},
   "source": [
    "#### Inserting Items: at the End"
   ]
  },
  {
   "cell_type": "code",
   "execution_count": 14,
   "metadata": {},
   "outputs": [],
   "source": [
    "def insert_at_end(self, data):\n",
    "    new_node = Node(data)\n",
    "    if self.start_node is None:\n",
    "        self.start_node = new_node\n",
    "        return\n",
    "    n = self.start_node\n",
    "    # traverse the list till the end\n",
    "    while n.ref is not None:\n",
    "        n= n.ref\n",
    "    n.ref = new_node;"
   ]
  },
  {
   "cell_type": "markdown",
   "metadata": {},
   "source": [
    "#### Inserting Items: after another item"
   ]
  },
  {
   "cell_type": "code",
   "execution_count": null,
   "metadata": {},
   "outputs": [],
   "source": [
    "# x is item after which you want to insert the new node\n",
    "# data is the value of the new node\n",
    "def insert_after_item(self, x, data):\n",
    "    # assign start_node to a new variable n\n",
    "    # helps us in traversing\n",
    "    n = self.start_node\n",
    "    print(n.ref)\n",
    "    \n",
    "    # traverse through the linked list\n",
    "    # until x if found\n",
    "    while n is not None:\n",
    "        if n.item == x:\n",
    "            break\n",
    "        \n",
    "        n = n.ref\n",
    "    if n is None:\n",
    "        print(\"item not in the list\")\n",
    "    else:\n",
    "        new_node = Node(data)\n",
    "        # reference of the new_node is set to \n",
    "        # reference stored by n\n",
    "        # reference of n is set to new_node\n",
    "        \n",
    "        new_node.ref = n.ref\n",
    "        n.ref = new_node"
   ]
  },
  {
   "cell_type": "markdown",
   "metadata": {},
   "source": [
    "#### Inserting Items: before another item"
   ]
  },
  {
   "cell_type": "code",
   "execution_count": null,
   "metadata": {},
   "outputs": [],
   "source": [
    "def insert_before_item(self, x, data):\n",
    "    if self.start_node is None:\n",
    "        print(\"List has no element\")\n",
    "        return\n",
    "    \n",
    "    # check if element is at the first index\n",
    "    # if so, update start_node\n",
    "    if x == self.start_node.item:\n",
    "        new_node = Node(data)\n",
    "        new_node.ref = self.start_node\n",
    "        self.start_node = new_node\n",
    "        return\n",
    "    \n",
    "    # create new variable\n",
    "    # traverse\n",
    "    n = self.start_node\n",
    "    print(n.ref)\n",
    "    # check if target is present\n",
    "    while n.ref is not None:\n",
    "        if n.ref.item == x:\n",
    "            break\n",
    "        n = n.ref\n",
    "    if n.ref is None:\n",
    "        print(\"item not in the list\")\n",
    "    else:\n",
    "        new_node = Node(data)\n",
    "        new_node.ref = n.ref\n",
    "        n.ref = new_node"
   ]
  },
  {
   "cell_type": "markdown",
   "metadata": {},
   "source": [
    "#### Inserting Items: at specific index"
   ]
  },
  {
   "cell_type": "code",
   "execution_count": null,
   "metadata": {},
   "outputs": [],
   "source": [
    "def insert_at_index (self, index, data):\n",
    "    # if index is 1, update start_node\n",
    "    if index == 1:\n",
    "        new_node = Node(data)\n",
    "        new_node.ref = self.start_node\n",
    "        self.start_node = new_node\n",
    "    i = 1\n",
    "    n = self.start_node\n",
    "    # traverse to index, break, add node\n",
    "    while i < index-1 and n is not None:\n",
    "        n = n.ref\n",
    "        i = i+1\n",
    "    if n is None:\n",
    "        print(\"Index out of bound\")\n",
    "    else: \n",
    "        new_node = Node(data)\n",
    "        new_node.ref = n.ref\n",
    "        n.ref = new_node"
   ]
  },
  {
   "cell_type": "markdown",
   "metadata": {},
   "source": [
    "#### Testing Insertion Functions"
   ]
  },
  {
   "cell_type": "code",
   "execution_count": 35,
   "metadata": {},
   "outputs": [
    {
     "data": {
      "text/plain": [
       "'/home/febriyan/Documents/IntroToStatWithPython/notebooks'"
      ]
     },
     "execution_count": 35,
     "metadata": {},
     "output_type": "execute_result"
    }
   ],
   "source": [
    "pwd"
   ]
  },
  {
   "cell_type": "code",
   "execution_count": 43,
   "metadata": {},
   "outputs": [],
   "source": [
    "from src.data_structures.linked_list import *"
   ]
  },
  {
   "cell_type": "code",
   "execution_count": 44,
   "metadata": {},
   "outputs": [],
   "source": [
    "new_linked_list = LinkedList()"
   ]
  },
  {
   "cell_type": "code",
   "execution_count": 45,
   "metadata": {},
   "outputs": [
    {
     "name": "stdout",
     "output_type": "stream",
     "text": [
      "5  \n",
      "10  \n",
      "15  \n"
     ]
    }
   ],
   "source": [
    "new_linked_list.insert_at_end(5)\n",
    "new_linked_list.insert_at_end(10)\n",
    "new_linked_list.insert_at_end(15)\n",
    "new_linked_list.traverse_list()"
   ]
  },
  {
   "cell_type": "code",
   "execution_count": 46,
   "metadata": {},
   "outputs": [
    {
     "name": "stdout",
     "output_type": "stream",
     "text": [
      "20  \n",
      "5  \n",
      "10  \n",
      "15  \n"
     ]
    }
   ],
   "source": [
    "new_linked_list.insert_at_start(20)\n",
    "new_linked_list.traverse_list()"
   ]
  },
  {
   "cell_type": "code",
   "execution_count": 47,
   "metadata": {},
   "outputs": [
    {
     "name": "stdout",
     "output_type": "stream",
     "text": [
      "<src.data_structures.linked_list.Node object at 0x7f1c5ca1b750>\n",
      "20  \n",
      "5  \n",
      "10  \n",
      "17  \n",
      "15  \n"
     ]
    }
   ],
   "source": [
    "new_linked_list.insert_after_item(10, 17)\n",
    "new_linked_list.traverse_list()"
   ]
  },
  {
   "cell_type": "code",
   "execution_count": 48,
   "metadata": {},
   "outputs": [
    {
     "name": "stdout",
     "output_type": "stream",
     "text": [
      "<src.data_structures.linked_list.Node object at 0x7f1c5ca1b750>\n",
      "20  \n",
      "5  \n",
      "10  \n",
      "25  \n",
      "17  \n",
      "15  \n"
     ]
    }
   ],
   "source": [
    "new_linked_list.insert_before_item(17, 25)\n",
    "new_linked_list.traverse_list()"
   ]
  },
  {
   "cell_type": "code",
   "execution_count": 49,
   "metadata": {},
   "outputs": [
    {
     "name": "stdout",
     "output_type": "stream",
     "text": [
      "20  \n",
      "5  \n",
      "8  \n",
      "10  \n",
      "25  \n",
      "17  \n",
      "15  \n"
     ]
    }
   ],
   "source": [
    "new_linked_list.insert_at_index(3,8)\n",
    "new_linked_list.traverse_list()"
   ]
  },
  {
   "cell_type": "markdown",
   "metadata": {},
   "source": [
    "#### Counting Elements"
   ]
  },
  {
   "cell_type": "code",
   "execution_count": 50,
   "metadata": {},
   "outputs": [],
   "source": [
    "# traverse and add count to an array\n",
    "def get_count(self):\n",
    "    if self.start_node is None:\n",
    "        return 0;\n",
    "    n = self.start_node\n",
    "    count = 0;\n",
    "    while n is not None:\n",
    "        count = count + 1\n",
    "        n = n.ref\n",
    "    return count"
   ]
  },
  {
   "cell_type": "code",
   "execution_count": 51,
   "metadata": {},
   "outputs": [
    {
     "data": {
      "text/plain": [
       "7"
      ]
     },
     "execution_count": 51,
     "metadata": {},
     "output_type": "execute_result"
    }
   ],
   "source": [
    "new_linked_list.get_count()"
   ]
  },
  {
   "cell_type": "markdown",
   "metadata": {},
   "source": [
    "#### Searching Elements"
   ]
  },
  {
   "cell_type": "code",
   "execution_count": 52,
   "metadata": {},
   "outputs": [],
   "source": [
    "def search_item(self, x):\n",
    "    if self.start_node is None:\n",
    "        print(\"List has no elements\")\n",
    "        return\n",
    "    # Traverse\n",
    "    # Find item\n",
    "    # Get index\n",
    "    n = self.start_node\n",
    "    while n is not None:\n",
    "        if n.item == x:\n",
    "            print(\"Item found\")\n",
    "            return True\n",
    "        n = n.ref\n",
    "    print(\"item not found\")\n",
    "    return False"
   ]
  },
  {
   "cell_type": "markdown",
   "metadata": {},
   "source": [
    "#### Creating a Linked List"
   ]
  },
  {
   "cell_type": "code",
   "execution_count": 53,
   "metadata": {},
   "outputs": [],
   "source": [
    "# User prompted to determine no. of nodes\n",
    "def make_new_list(self):\n",
    "    nums = int(input(\"How many nodes do you want to create: \"))\n",
    "    if nums == 0:\n",
    "        return\n",
    "    for i in range(nums):\n",
    "        value = int(input(\"Enter the value for the node:\"))\n",
    "        self.insert_at_end(value)"
   ]
  },
  {
   "cell_type": "code",
   "execution_count": 54,
   "metadata": {},
   "outputs": [
    {
     "name": "stdout",
     "output_type": "stream",
     "text": [
      "How many nodes do you want to create: 5\n",
      "Enter the value for the node:112\n",
      "Enter the value for the node:3\n",
      "Enter the value for the node:2\n",
      "Enter the value for the node:4\n",
      "Enter the value for the node:5\n"
     ]
    }
   ],
   "source": [
    "new_linked_list.make_new_list()"
   ]
  },
  {
   "cell_type": "markdown",
   "metadata": {},
   "source": [
    "#### Deleting Elements\n",
    "#### Deletion from the Start"
   ]
  },
  {
   "cell_type": "code",
   "execution_count": 55,
   "metadata": {},
   "outputs": [],
   "source": [
    "def delete_at_start(self):\n",
    "    if self.start_node is None:\n",
    "        print(\"The list has no element to delete\")\n",
    "        return \n",
    "    # start_node point to the previous second node\n",
    "    self.start_node = self.start_node.ref"
   ]
  },
  {
   "cell_type": "markdown",
   "metadata": {},
   "source": [
    "#### Deletion from the End"
   ]
  },
  {
   "cell_type": "code",
   "execution_count": 56,
   "metadata": {},
   "outputs": [],
   "source": [
    "def delete_at_end(self):\n",
    "    if self.start_node is None:\n",
    "        print(\"The list has no element to delete\")\n",
    "        return\n",
    "\n",
    "    n = self.start_node\n",
    "    # Traverse to the end\n",
    "    # Convert second last element to last element\n",
    "    while n.ref.ref is not None:\n",
    "        n = n.ref\n",
    "    n.ref = None"
   ]
  },
  {
   "cell_type": "markdown",
   "metadata": {},
   "source": [
    "#### Deletion by Item Value"
   ]
  },
  {
   "cell_type": "code",
   "execution_count": 57,
   "metadata": {},
   "outputs": [],
   "source": [
    "  def delete_element_by_value(self, x):\n",
    "    if self.start_node is None:\n",
    "        print(\"The list has no element to delete\")\n",
    "        return\n",
    "\n",
    "    # Deleting first node \n",
    "    if self.start_node.item == x:\n",
    "        self.start_node = self.start_node.ref\n",
    "        return\n",
    "    # reference of the node before the item is set to \n",
    "    # the node that exists after the item being deleted\n",
    "    n = self.start_node\n",
    "    while n.ref is not None:\n",
    "        if n.ref.item == x:\n",
    "            break\n",
    "        n = n.ref\n",
    "\n",
    "    if n.ref is None:\n",
    "        print(\"item not found in the list\")\n",
    "    else:\n",
    "        n.ref = n.ref.ref"
   ]
  },
  {
   "cell_type": "markdown",
   "metadata": {},
   "source": [
    "#### Testing Deletion Functions"
   ]
  },
  {
   "cell_type": "code",
   "execution_count": 61,
   "metadata": {},
   "outputs": [
    {
     "name": "stdout",
     "output_type": "stream",
     "text": [
      "20  \n",
      "5  \n",
      "8  \n",
      "10  \n",
      "25  \n",
      "17  \n",
      "15  \n",
      "112  \n",
      "3  \n",
      "2  \n",
      "4  \n",
      "5  \n",
      "10  \n",
      "20  \n",
      "30  \n",
      "40  \n",
      "50  \n",
      "10  \n",
      "20  \n",
      "30  \n",
      "40  \n",
      "50  \n",
      "10  \n",
      "20  \n",
      "30  \n",
      "40  \n",
      "50  \n"
     ]
    }
   ],
   "source": [
    "new_linked_list.insert_at_end(10)\n",
    "new_linked_list.insert_at_end(20)\n",
    "new_linked_list.insert_at_end(30)\n",
    "new_linked_list.insert_at_end(40)\n",
    "new_linked_list.insert_at_end(50)\n",
    "new_linked_list.traverse_list()"
   ]
  },
  {
   "cell_type": "code",
   "execution_count": 63,
   "metadata": {},
   "outputs": [
    {
     "name": "stdout",
     "output_type": "stream",
     "text": [
      "8  \n",
      "10  \n",
      "25  \n",
      "17  \n",
      "15  \n",
      "112  \n",
      "3  \n",
      "2  \n",
      "4  \n",
      "5  \n",
      "10  \n",
      "20  \n",
      "30  \n",
      "40  \n",
      "50  \n",
      "10  \n",
      "20  \n",
      "30  \n",
      "40  \n",
      "50  \n",
      "10  \n",
      "20  \n",
      "30  \n",
      "40  \n",
      "50  \n"
     ]
    }
   ],
   "source": [
    "new_linked_list.delete_at_start()\n",
    "new_linked_list.traverse_list()"
   ]
  },
  {
   "cell_type": "code",
   "execution_count": 64,
   "metadata": {},
   "outputs": [
    {
     "name": "stdout",
     "output_type": "stream",
     "text": [
      "8  \n",
      "10  \n",
      "25  \n",
      "17  \n",
      "15  \n",
      "112  \n",
      "3  \n",
      "2  \n",
      "4  \n",
      "5  \n",
      "10  \n",
      "20  \n",
      "30  \n",
      "40  \n",
      "50  \n",
      "10  \n",
      "20  \n",
      "30  \n",
      "40  \n",
      "50  \n",
      "10  \n",
      "20  \n",
      "30  \n",
      "40  \n"
     ]
    }
   ],
   "source": [
    "new_linked_list.delete_at_end()\n",
    "new_linked_list.traverse_list()"
   ]
  },
  {
   "cell_type": "code",
   "execution_count": 68,
   "metadata": {},
   "outputs": [
    {
     "name": "stdout",
     "output_type": "stream",
     "text": [
      "item not found in the list\n",
      "8  \n",
      "10  \n",
      "25  \n",
      "17  \n",
      "15  \n",
      "112  \n",
      "3  \n",
      "2  \n",
      "4  \n",
      "5  \n",
      "10  \n",
      "20  \n",
      "40  \n",
      "50  \n",
      "10  \n",
      "20  \n",
      "40  \n",
      "50  \n",
      "10  \n",
      "20  \n",
      "40  \n"
     ]
    }
   ],
   "source": [
    "new_linked_list.delete_element_by_value(30)\n",
    "new_linked_list.traverse_list()"
   ]
  },
  {
   "cell_type": "markdown",
   "metadata": {},
   "source": [
    "#### Reversing a Linked List"
   ]
  },
  {
   "cell_type": "code",
   "execution_count": 69,
   "metadata": {},
   "outputs": [],
   "source": [
    "def reverse_linkedlist(self):\n",
    "    prev = None\n",
    "    n = self.start_node\n",
    "    while n is not None:\n",
    "        next = n.ref\n",
    "        n.ref = prev\n",
    "        prev = n\n",
    "        n = next\n",
    "    self.start_node = prev"
   ]
  },
  {
   "cell_type": "code",
   "execution_count": 70,
   "metadata": {},
   "outputs": [
    {
     "name": "stdout",
     "output_type": "stream",
     "text": [
      "40  \n",
      "20  \n",
      "10  \n",
      "50  \n",
      "40  \n",
      "20  \n",
      "10  \n",
      "50  \n",
      "40  \n",
      "20  \n",
      "10  \n",
      "5  \n",
      "4  \n",
      "2  \n",
      "3  \n",
      "112  \n",
      "15  \n",
      "17  \n",
      "25  \n",
      "10  \n",
      "8  \n"
     ]
    }
   ],
   "source": [
    "new_linked_list.reverse_linkedlist()\n",
    "new_linked_list.traverse_list()"
   ]
  },
  {
   "cell_type": "code",
   "execution_count": null,
   "metadata": {},
   "outputs": [],
   "source": [
    "# continue with the 2 articles below"
   ]
  },
  {
   "cell_type": "markdown",
   "metadata": {},
   "source": [
    "# References\n",
    "- https://python.swaroopch.com/data_structures.html\n",
    "- https://docs.python.org/3/tutorial/datastructures.html#using-lists-as-stacks\n",
    "- https://stackabuse.com/linked-lists-in-detail-with-python-examples-single-linked-lists/\n",
    "## TO BE DONE\n",
    "- https://stackabuse.com/sorting-and-merging-single-linked-list/\n",
    "- https://stackabuse.com/doubly-linked-list-with-python-examples/"
   ]
  },
  {
   "cell_type": "code",
   "execution_count": null,
   "metadata": {},
   "outputs": [],
   "source": []
  }
 ],
 "metadata": {
  "kernelspec": {
   "display_name": "Python 3",
   "language": "python",
   "name": "python3"
  },
  "language_info": {
   "codemirror_mode": {
    "name": "ipython",
    "version": 3
   },
   "file_extension": ".py",
   "mimetype": "text/x-python",
   "name": "python",
   "nbconvert_exporter": "python",
   "pygments_lexer": "ipython3",
   "version": "3.7.6"
  }
 },
 "nbformat": 4,
 "nbformat_minor": 4
}
