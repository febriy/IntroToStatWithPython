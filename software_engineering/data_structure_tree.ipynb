{
 "cells": [
  {
   "cell_type": "markdown",
   "metadata": {},
   "source": [
    "# Data Structures"
   ]
  },
  {
   "cell_type": "markdown",
   "metadata": {},
   "source": [
    "| Built-in Data Structures | User-Defined Data Structures |\n",
    "| --- | --- | \n",
    "| List | Arrays vs. List |\n",
    "| Dictionary / Hash Map | Stack |\n",
    "| Tuple | Queue |\n",
    "| Sets | Trees |\n",
    "| - | Linked Lists |\n",
    "| - | Graphs |"
   ]
  },
  {
   "cell_type": "markdown",
   "metadata": {},
   "source": [
    "## Tree\n",
    "- nonlinear data structure\n",
    "- can focus on a branch, making it more efficient\n",
    "- extension linked data structure (like linked list)\n",
    " - multiple relations among its nodes\n",
    " \n",
    "General properties\n",
    "- one `root` node\n",
    "- every node (excluding the root) is connected by a directed edge from exactly one other node\n",
    " - direction is parent -> children\n",
    "- each node can have arbitraty number of childrern\n",
    "- Nodes with no children are called leaves/ external nodes\n",
    "- Nodes with same parents are called siblings\n",
    "- Depth of a node is the number of edges from the root to the node\n",
    "- The height of a node is the number of edges from the node to the deepest leaf."
   ]
  },
  {
   "cell_type": "markdown",
   "metadata": {},
   "source": [
    "## Binary tree\n",
    "- each node can have no more than two children"
   ]
  },
  {
   "cell_type": "markdown",
   "metadata": {},
   "source": [
    "### Inserting to a tree"
   ]
  },
  {
   "cell_type": "code",
   "execution_count": 1,
   "metadata": {},
   "outputs": [],
   "source": [
    "class Node:\n",
    "\n",
    "    def __init__(self, data):\n",
    "\n",
    "        self.left = None\n",
    "        self.right = None\n",
    "        self.data = data\n",
    "\n",
    "    def insert(self, data):\n",
    "# Compare the new value with the parent node\n",
    "# If number is smaller than parent, attach to the left\n",
    "        if self.data:\n",
    "            if data < self.data:\n",
    "                if self.left is None:\n",
    "                    self.left = Node(data)\n",
    "                else:\n",
    "                    self.left.insert(data)\n",
    "            elif data > self.data:\n",
    "                if self.right is None:\n",
    "                    self.right = Node(data)\n",
    "                else:\n",
    "                    self.right.insert(data)\n",
    "        else:\n",
    "            self.data = data\n",
    "\n",
    "# Print the tree\n",
    "    def PrintTree(self):\n",
    "        if self.left:\n",
    "            self.left.PrintTree()\n",
    "        print( self.data),\n",
    "        if self.right:\n",
    "            self.right.PrintTree()"
   ]
  },
  {
   "cell_type": "code",
   "execution_count": 2,
   "metadata": {},
   "outputs": [],
   "source": [
    "# Use the insert method to add nodes\n",
    "root = Node(12)\n",
    "root.insert(6)\n",
    "root.insert(14)\n",
    "root.insert(3)"
   ]
  },
  {
   "cell_type": "code",
   "execution_count": 3,
   "metadata": {},
   "outputs": [
    {
     "name": "stdout",
     "output_type": "stream",
     "text": [
      "3\n",
      "6\n",
      "12\n",
      "14\n"
     ]
    }
   ],
   "source": [
    "root.PrintTree()"
   ]
  },
  {
   "cell_type": "code",
   "execution_count": null,
   "metadata": {},
   "outputs": [],
   "source": []
  },
  {
   "cell_type": "markdown",
   "metadata": {},
   "source": [
    "## Binary seach tree (BST)"
   ]
  },
  {
   "cell_type": "code",
   "execution_count": null,
   "metadata": {},
   "outputs": [],
   "source": []
  },
  {
   "cell_type": "code",
   "execution_count": null,
   "metadata": {},
   "outputs": [],
   "source": []
  },
  {
   "cell_type": "markdown",
   "metadata": {},
   "source": [
    "# References\n",
    "- https://www.cs.cmu.edu/~clo/www/CMU/DataStructures/Lessons/lesson4_1.htm\n",
    "- https://www.geeksforgeeks.org/binary-tree-data-structure/\n",
    "- https://www.tutorialspoint.com/python_data_structure/python_binary_tree.htm\n",
    "- https://stackoverflow.com/questions/2358045/how-can-i-implement-a-tree-in-python\n",
    "- https://pypi.org/project/anytree/\n",
    "- http://etetoolkit.org/docs/2.3/tutorial/tutorial_trees.html"
   ]
  },
  {
   "cell_type": "code",
   "execution_count": null,
   "metadata": {},
   "outputs": [],
   "source": []
  }
 ],
 "metadata": {
  "kernelspec": {
   "display_name": "Python 3",
   "language": "python",
   "name": "python3"
  },
  "language_info": {
   "codemirror_mode": {
    "name": "ipython",
    "version": 3
   },
   "file_extension": ".py",
   "mimetype": "text/x-python",
   "name": "python",
   "nbconvert_exporter": "python",
   "pygments_lexer": "ipython3",
   "version": "3.7.6"
  }
 },
 "nbformat": 4,
 "nbformat_minor": 4
}
