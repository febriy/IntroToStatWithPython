{
 "cells": [
  {
   "cell_type": "markdown",
   "metadata": {},
   "source": [
    "# Data Structures - Graphs\n"
   ]
  },
  {
   "cell_type": "markdown",
   "metadata": {},
   "source": [
    "| Built-in Data Structures | User-Defined Data Structures |\n",
    "| --- | --- | \n",
    "| List | Arrays vs. List |\n",
    "| Dictionary / Hash Map | Stack |\n",
    "| Tuple | Queue |\n",
    "| Sets | Trees |\n",
    "| - | Linked Lists |\n",
    "| - | Graphs |"
   ]
  },
  {
   "cell_type": "markdown",
   "metadata": {},
   "source": [
    "## Graphs\n",
    "- graphs are networks consisting of nodes conneccted by edges or acrs. \n",
    " - Directed graphs - connections between nodes have a direction and are called arcs\n",
    " - Undirected graphs - connections between nodes have no direction and are called edges\n",
    " \n",
    "- types of algorithms in graphs:\n",
    " - find a path between two nodes\n",
    " - finding the shortest path between two nodes\n",
    " - determining cycles in the graph (cycle: non-empty path from a node to itself)\n",
    " - finding a path that reaches all nodes (the \"travelling salesman problem\")\n",
    " - etc\n",
    " \n",
    "- Applications\n",
    " - management of networks"
   ]
  },
  {
   "cell_type": "markdown",
   "metadata": {},
   "source": [
    "In python, we can use dictionary and lists to represent the graph data structure"
   ]
  },
  {
   "cell_type": "code",
   "execution_count": 4,
   "metadata": {},
   "outputs": [],
   "source": [
    "graph = {'A': ['B', 'C'],\n",
    "         'B': ['C', 'D'],\n",
    "         'C': ['D'],\n",
    "         'D': ['C'],\n",
    "         'E': ['F'],\n",
    "         'F': ['C']}"
   ]
  },
  {
   "cell_type": "code",
   "execution_count": 9,
   "metadata": {},
   "outputs": [],
   "source": [
    "# find path between two nodes\n",
    "# takes in the graph, start ane end nodes\n",
    "# algorithm uses a technique called backtracking\n",
    "## tries each possibility in turn until solution is found\n",
    "def find_path(graph, start, end, path=[]):\n",
    "    path = path + [start]\n",
    "    if start == end:\n",
    "        return path\n",
    "    if start not in graph:\n",
    "        return None\n",
    "    for node in graph[start]:\n",
    "        if node not in path:\n",
    "            newpath = find_path(graph, node, end, path)\n",
    "            if newpath: return newpath\n",
    "    return None"
   ]
  },
  {
   "cell_type": "markdown",
   "metadata": {},
   "source": [
    "- second `if` statement is necessary in case there are nodes that are listed as end points for arcs BUT that don't have outgoing arcs themselves, and aren't listed in the graph at all. \n",
    "- the fourth argument `path=[]` is 'the path that has been traversed - default to an empty list\n",
    " - made to avoid cycles (the first `if` in the `for` loop\n",
    " - we are making new list using `path = path +[start]\n",
    " - path.append(start) will modify the `path` variable in the caller"
   ]
  },
  {
   "cell_type": "code",
   "execution_count": 26,
   "metadata": {},
   "outputs": [
    {
     "data": {
      "text/plain": [
       "['A', 'B', 'C', 'D']"
      ]
     },
     "execution_count": 26,
     "metadata": {},
     "output_type": "execute_result"
    }
   ],
   "source": [
    "find_path(graph, 'A', 'D')"
   ]
  },
  {
   "cell_type": "code",
   "execution_count": 29,
   "metadata": {},
   "outputs": [],
   "source": [
    "# This is one with path.append\n",
    "# it still works actually\n",
    "# find out what is the article actually saying\n",
    "def find_path_append(graph, start, end):\n",
    "    path = []\n",
    "    path.append(start) \n",
    "    if start == end:\n",
    "        return path\n",
    "    if start not in graph:\n",
    "        return None\n",
    "    for node in graph[start]:\n",
    "        if node not in path:\n",
    "            newpath = find_path(graph, node, end, path)\n",
    "            if newpath: return newpath\n",
    "    return None"
   ]
  },
  {
   "cell_type": "code",
   "execution_count": 28,
   "metadata": {},
   "outputs": [
    {
     "data": {
      "text/plain": [
       "['A', 'B', 'C', 'D']"
      ]
     },
     "execution_count": 28,
     "metadata": {},
     "output_type": "execute_result"
    }
   ],
   "source": [
    "find_path_append(graph, 'A', 'D')"
   ]
  },
  {
   "cell_type": "code",
   "execution_count": 13,
   "metadata": {},
   "outputs": [],
   "source": [
    "def find_all_paths(graph, start, end, path=[]):\n",
    "    path = path + [start]\n",
    "    if start == end:\n",
    "        return [path]\n",
    "    if start not in graph:\n",
    "        return []\n",
    "    paths = []\n",
    "    for node in graph[start]:\n",
    "        if node not in path:\n",
    "            newpaths = find_all_paths(graph, node, end, path)\n",
    "            for newpath in newpaths:\n",
    "                paths.append(newpath)\n",
    "    return paths"
   ]
  },
  {
   "cell_type": "code",
   "execution_count": 14,
   "metadata": {},
   "outputs": [
    {
     "data": {
      "text/plain": [
       "[['A', 'B', 'C', 'D'], ['A', 'B', 'D'], ['A', 'C', 'D']]"
      ]
     },
     "execution_count": 14,
     "metadata": {},
     "output_type": "execute_result"
    }
   ],
   "source": [
    "find_all_paths(graph, 'A', 'D')"
   ]
  },
  {
   "cell_type": "code",
   "execution_count": 18,
   "metadata": {},
   "outputs": [],
   "source": [
    "def find_shortest_path(graph, start, end, path=[]):\n",
    "    path = path + [start]\n",
    "    if start == end:\n",
    "        return path\n",
    "    if start not in graph:\n",
    "        return None\n",
    "    shortest = None\n",
    "    for node in graph[start]:\n",
    "        if node not in path:\n",
    "            newpath = find_shortest_path(graph, node, end, path)\n",
    "            if newpath:\n",
    "                if not shortest or len(newpath) < len(shortest):\n",
    "                    shortest = newpath\n",
    "    return shortest"
   ]
  },
  {
   "cell_type": "code",
   "execution_count": 19,
   "metadata": {},
   "outputs": [
    {
     "data": {
      "text/plain": [
       "['A', 'B', 'D']"
      ]
     },
     "execution_count": 19,
     "metadata": {},
     "output_type": "execute_result"
    }
   ],
   "source": [
    "find_shortest_path(graph, 'A', 'D')"
   ]
  },
  {
   "cell_type": "markdown",
   "metadata": {},
   "source": [
    "# References\n",
    "- https://www.python.org/doc/essays/graphs/\n",
    "- https://stackoverflow.com/questions/19472530/representing-graphs-data-structure-in-python\n",
    "- https://github.com/networkx/networkx/tree/master/networkx/algorithms\n",
    "- https://www.geeksforgeeks.org/graph-data-structure-and-algorithms/\n",
    "- https://www.youtube.com/watch?v=caAVlibiTkY&list=PLEJXowNB4kPzByLnnFYNSCoqtFz0VKLk5"
   ]
  },
  {
   "cell_type": "code",
   "execution_count": null,
   "metadata": {},
   "outputs": [],
   "source": []
  }
 ],
 "metadata": {
  "kernelspec": {
   "display_name": "Python 3",
   "language": "python",
   "name": "python3"
  },
  "language_info": {
   "codemirror_mode": {
    "name": "ipython",
    "version": 3
   },
   "file_extension": ".py",
   "mimetype": "text/x-python",
   "name": "python",
   "nbconvert_exporter": "python",
   "pygments_lexer": "ipython3",
   "version": "3.7.6"
  }
 },
 "nbformat": 4,
 "nbformat_minor": 4
}
