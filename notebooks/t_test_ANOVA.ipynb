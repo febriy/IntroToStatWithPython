{
 "cells": [
  {
   "cell_type": "markdown",
   "metadata": {},
   "source": [
    "# t-tests and ANOVA\n",
    "https://www.youtube.com/watch?v=NF5_btOaCig"
   ]
  },
  {
   "cell_type": "markdown",
   "metadata": {},
   "source": [
    "Recap: purpose of linear regression\n",
    "1. how useful is x in predicting y?\n",
    "2. is the relationship due to chance?\n",
    "\n",
    "the goal of a t-test is to compare means and see if they are significantly different from each other\n",
    "\n",
    "- The t score is a ratio between the difference between two groups and the difference within the groups. \n",
    "- The larger the t score, the more difference there is between groups(vice versa) \n",
    " - A t score of 3 means that the groups are three times as different from each other as they are within each other. When you run a t test, the bigger the t-value, the more likely it is that the results are repeatable.\n",
    "\n",
    "- Step 1: Find the mean \n",
    "- Step 2: Find the sum of squares around the mean SS(mean)\n",
    "- Step 3: Fit a line to the data. How to do this for the t-test?\n",
    " - separate the 2 groups and calculate means separately\n",
    " - combine the 2 lines into  a single equation\n",
    " - This enables us to compute F the same way as previously\n",
    " \n",
    "How to combine the 2 lines to 1 equation?\n",
    " - y = 1(first_dist_mean)+0(second_dist_mean)+ the residual\n",
    " - y = 0(first_dist_mean)+1(second_dist_mean)+ the residual\n",
    " - the 1 and 0 are like switches for the 2 means\n",
    " - Isolating the 1s and 0s gives us what we call the design matrix. \n",
    " - Now we have col_1(first_dist_mean)+col_2(second_dist_mean)\n",
    " \n",
    "Now we can proceed\n",
    "\n",
    "Step 4: Calculate SS(fit)\n",
    "\n",
    "Step 5: Plug numbers to the F equation"
   ]
  },
  {
   "cell_type": "markdown",
   "metadata": {},
   "source": [
    "ANOVA compares multiple (more than 2) means."
   ]
  },
  {
   "cell_type": "markdown",
   "metadata": {},
   "source": [
    "## From scratch"
   ]
  },
  {
   "cell_type": "code",
   "execution_count": 35,
   "metadata": {},
   "outputs": [
    {
     "name": "stdout",
     "output_type": "stream",
     "text": [
      "t = 5.337680056367113\n",
      "p = 4.496701625300581e-05\n"
     ]
    }
   ],
   "source": [
    "## Import the packages\n",
    "import numpy as np\n",
    "\n",
    "## Define 2 random distributions\n",
    "#Sample Size\n",
    "N = 10\n",
    "#Gaussian distributed data with mean = 2 and var = 1\n",
    "a = np.random.randn(N) + 2\n",
    "#Gaussian distributed data with with mean = 0 and var = 1\n",
    "b = np.random.randn(N)\n",
    "\n",
    "## Calculate the Standard Deviation (from variance)\n",
    "\n",
    "#For unbiased max likelihood estimate we have to divide the var by N-1, and therefore the parameter ddof = 1\n",
    "var_a = a.var(ddof=1)\n",
    "var_b = b.var(ddof=1)\n",
    "\n",
    "#std deviation\n",
    "s = np.sqrt((var_a + var_b)/2)\n",
    "\n",
    "## Calculate the t-statistics\n",
    "t = (a.mean() - b.mean())/(s*np.sqrt(2/N))\n",
    "\n",
    "## Compare with the critical t-value\n",
    "#Degrees of freedom\n",
    "df = 2*N - 2\n",
    "\n",
    "#p-value after comparison with the t \n",
    "p = 1 - stats.t.cdf(t,df=df)\n",
    "\n",
    "print(\"t = \" + str(t))\n",
    "print(\"p = \" + str(2*p))\n",
    "# You can see that after comparing the t statistic with the critical t value (computed internally) \n",
    "# we get a good p value of 0.0005 and thus we reject the null hypothesis and thus\n",
    "# it proves that the mean of the two distributions are different and statistically significant."
   ]
  },
  {
   "cell_type": "markdown",
   "metadata": {},
   "source": [
    "## Using scipy"
   ]
  },
  {
   "cell_type": "code",
   "execution_count": 36,
   "metadata": {},
   "outputs": [
    {
     "name": "stdout",
     "output_type": "stream",
     "text": [
      "t = 5.337680056367113\n",
      "p = 4.496701625294053e-05\n"
     ]
    }
   ],
   "source": [
    "from scipy import stats\n",
    "## Cross Checking with the internal scipy function\n",
    "t2, p2 = stats.ttest_ind(a,b)\n",
    "print(\"t = \" + str(t2))\n",
    "print(\"p = \" + str(p2))"
   ]
  },
  {
   "cell_type": "markdown",
   "metadata": {},
   "source": [
    "# Reference\n",
    "- https://www.youtube.com/watch?v=NF5_btOaCig\n",
    "- https://towardsdatascience.com/inferential-statistics-series-t-test-using-numpy-2718f8f9bf2f\n",
    "- https://pythonfordatascience.org/anova-python/#intro"
   ]
  },
  {
   "cell_type": "code",
   "execution_count": null,
   "metadata": {},
   "outputs": [],
   "source": []
  }
 ],
 "metadata": {
  "kernelspec": {
   "display_name": "Python 3",
   "language": "python",
   "name": "python3"
  },
  "language_info": {
   "codemirror_mode": {
    "name": "ipython",
    "version": 3
   },
   "file_extension": ".py",
   "mimetype": "text/x-python",
   "name": "python",
   "nbconvert_exporter": "python",
   "pygments_lexer": "ipython3",
   "version": "3.7.6"
  }
 },
 "nbformat": 4,
 "nbformat_minor": 4
}
