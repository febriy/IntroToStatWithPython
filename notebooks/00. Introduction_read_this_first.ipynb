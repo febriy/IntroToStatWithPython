{
 "cells": [
  {
   "cell_type": "markdown",
   "metadata": {},
   "source": [
    "## Why do I create these notebooks\n",
    "- Crystallise my own understanding\n",
    "- Quick way to remind myself what I've known\n",
    "- Practice good documentation and communication skill"
   ]
  },
  {
   "cell_type": "markdown",
   "metadata": {},
   "source": [
    "## Notebook principles\n",
    "1. Start with why\n",
    "2. Think first principle \n",
    "3. Algorothmic thinking: Favour clear pointers/ graphical representation compared to long prose \n",
    "4. Simplify with metaphor only when necessary \n",
    "5. Add modular, clean, production ready codes\n",
    "6. Include potential data science interview questions on every section \n",
    "\n",
    "The idea is that once you go through my notes, you are ready to attempt a DS quiz or interview related to that topic. \n",
    "\n",
    "Right now though, I am still learning most of these things as well so there will be many copy-pasting till I reiew them again."
   ]
  },
  {
   "cell_type": "code",
   "execution_count": null,
   "metadata": {},
   "outputs": [],
   "source": []
  }
 ],
 "metadata": {
  "kernelspec": {
   "display_name": "Python 3",
   "language": "python",
   "name": "python3"
  },
  "language_info": {
   "codemirror_mode": {
    "name": "ipython",
    "version": 3
   },
   "file_extension": ".py",
   "mimetype": "text/x-python",
   "name": "python",
   "nbconvert_exporter": "python",
   "pygments_lexer": "ipython3",
   "version": "3.7.6"
  }
 },
 "nbformat": 4,
 "nbformat_minor": 4
}
