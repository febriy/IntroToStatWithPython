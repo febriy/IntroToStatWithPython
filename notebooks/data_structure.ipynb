{
 "cells": [
  {
   "cell_type": "markdown",
   "metadata": {},
   "source": [
    "# Data Structures"
   ]
  },
  {
   "cell_type": "markdown",
   "metadata": {},
   "source": [
    "| Built-in Data Structures | User-Defined Data Structures |\n",
    "| --- | --- | \n",
    "| List | Arrays vs. List |\n",
    "| Dictionary | Stack |\n",
    "| Tuple | Queue |\n",
    "| Sets | Trees |\n",
    "| - | Linked Lists |\n",
    "| - | Graphs |\n",
    "| - | HashMaps |"
   ]
  },
  {
   "cell_type": "markdown",
   "metadata": {},
   "source": [
    "## Stacks\n",
    "- List methods makes it easy to create stacks\n",
    "- In stacks, the last element added is the first element retreived (\"last-in, first-out\")\n",
    "- To add item, use append()\n",
    "- To remove, use pop()"
   ]
  },
  {
   "cell_type": "code",
   "execution_count": 1,
   "metadata": {},
   "outputs": [],
   "source": [
    "stack = [3, 4, 5]"
   ]
  },
  {
   "cell_type": "code",
   "execution_count": 2,
   "metadata": {},
   "outputs": [
    {
     "data": {
      "text/plain": [
       "[3, 4, 5, 6]"
      ]
     },
     "execution_count": 2,
     "metadata": {},
     "output_type": "execute_result"
    }
   ],
   "source": [
    "stack.append(6)\n",
    "stack"
   ]
  },
  {
   "cell_type": "code",
   "execution_count": 5,
   "metadata": {},
   "outputs": [
    {
     "data": {
      "text/plain": [
       "[3]"
      ]
     },
     "execution_count": 5,
     "metadata": {},
     "output_type": "execute_result"
    }
   ],
   "source": [
    "stack.pop()\n",
    "stack"
   ]
  },
  {
   "cell_type": "markdown",
   "metadata": {},
   "source": [
    "## Queues\n",
    "- In queues, the first element added is the first element retrieved (“first-in, first-out”)\n",
    "- Using list is not efficient here\n",
    " - all the other elemets have to be shifted by one\n",
    "- To implement a queue, use collections.deque which was designed to have fast appends and pops from both ends"
   ]
  },
  {
   "cell_type": "code",
   "execution_count": 6,
   "metadata": {},
   "outputs": [],
   "source": [
    "from collections import deque"
   ]
  },
  {
   "cell_type": "code",
   "execution_count": 8,
   "metadata": {},
   "outputs": [
    {
     "data": {
      "text/plain": [
       "deque(['Eric', 'John', 'Michael'])"
      ]
     },
     "execution_count": 8,
     "metadata": {},
     "output_type": "execute_result"
    }
   ],
   "source": [
    "queue = deque([\"Eric\", \"John\", \"Michael\"])\n",
    "queue"
   ]
  },
  {
   "cell_type": "code",
   "execution_count": 9,
   "metadata": {},
   "outputs": [
    {
     "data": {
      "text/plain": [
       "deque(['Eric', 'John', 'Michael', 'Terry'])"
      ]
     },
     "execution_count": 9,
     "metadata": {},
     "output_type": "execute_result"
    }
   ],
   "source": [
    "queue.append(\"Terry\")\n",
    "queue"
   ]
  },
  {
   "cell_type": "code",
   "execution_count": 10,
   "metadata": {},
   "outputs": [
    {
     "data": {
      "text/plain": [
       "deque(['John', 'Michael', 'Terry'])"
      ]
     },
     "execution_count": 10,
     "metadata": {},
     "output_type": "execute_result"
    }
   ],
   "source": [
    "queue.popleft()\n",
    "queue"
   ]
  },
  {
   "cell_type": "markdown",
   "metadata": {},
   "source": [
    "## Linked Lists\n",
    "- In arrays, data is stored at contiguous memory locations\n",
    "- Linked liest stores value of the item and the reference or pointer to the next item. "
   ]
  },
  {
   "cell_type": "markdown",
   "metadata": {},
   "source": [
    "| Linked Lists | Arrays |\n",
    "| --- | --- | \n",
    "| Dynamic: memory reserved for the lst can be increased or reduced at runtime | Memory has to be allocated in advance for a specific number of items |\n",
    "| Easy to update (change the link to the next item) | Difficult to remove or insert an item in large arrays |\n",
    "| Extra memory for reference to next item |       |\n",
    "| Cannot access a linked list item directly, must start from the first item |       |"
   ]
  },
  {
   "cell_type": "markdown",
   "metadata": {},
   "source": [
    "### Single Linked Lists\n",
    "- Every node contains an item and reference to the next item\n",
    "- Now, we will create a node for the single linked list along with the functions for different types of insertion, traversal, deletion"
   ]
  },
  {
   "cell_type": "markdown",
   "metadata": {},
   "source": [
    "#### Creating the Node Class\n",
    "- Nodes will be inserted in the linked list\n",
    "- Node contains an item `item` and reference `ref`"
   ]
  },
  {
   "cell_type": "code",
   "execution_count": 11,
   "metadata": {},
   "outputs": [],
   "source": [
    "class Node:\n",
    "    def __init__(self, data):\n",
    "        self.item = data\n",
    "        self.ref = None"
   ]
  },
  {
   "cell_type": "markdown",
   "metadata": {},
   "source": [
    "#### Creating the Single Linked List Class\n",
    "- Contain methods to insert, remove, traverse, sort the list\n",
    "- Initially, only contain `start_node`\n",
    "- Then we will add insertion function\n",
    "- Before that, need a function to traverse a linked list\n",
    " - Traverse function allows us to read the data in the list"
   ]
  },
  {
   "cell_type": "code",
   "execution_count": 12,
   "metadata": {},
   "outputs": [],
   "source": [
    "class LinkedList:\n",
    "    def __init__(self):\n",
    "        self.start_node = None"
   ]
  },
  {
   "cell_type": "markdown",
   "metadata": {},
   "source": [
    "#### Traversing Linked List Items"
   ]
  },
  {
   "cell_type": "code",
   "execution_count": null,
   "metadata": {},
   "outputs": [],
   "source": [
    "def traverse_list(self):\n",
    "    # Check if list is empty or not\n",
    "    if self.start_node is None:\n",
    "        print(\"List has no element\")\n",
    "        return\n",
    "    else:\n",
    "        # initialise variable n with start variable\n",
    "        # execute a loop that executes until n becomes none\n",
    "        # print item stored at current node\n",
    "        # set value of n variable to n.ref, \n",
    "        # which contains reference to the next node\n",
    "        # Last node will be None\n",
    "        n = self.start_node\n",
    "        while n is not None:\n",
    "            print(n.item , \" \")\n",
    "            n = n.ref"
   ]
  },
  {
   "cell_type": "markdown",
   "metadata": {},
   "source": [
    "#### Inserting Items: at the Beginning"
   ]
  },
  {
   "cell_type": "code",
   "execution_count": 13,
   "metadata": {},
   "outputs": [],
   "source": [
    "def insert_at_start(self, data):\n",
    "    # create a new node\n",
    "    new_node = Node(data)\n",
    "    # set reference to the previous start_node\n",
    "    new_node.ref = self.start_node\n",
    "    # set new_node as start_node\n",
    "    self.start_node= new_node"
   ]
  },
  {
   "cell_type": "markdown",
   "metadata": {},
   "source": [
    "#### Inserting Items: at the End"
   ]
  },
  {
   "cell_type": "code",
   "execution_count": 14,
   "metadata": {},
   "outputs": [],
   "source": [
    "def insert_at_end(self, data):\n",
    "    new_node = Node(data)\n",
    "    if self.start_node is None:\n",
    "        self.start_node = new_node\n",
    "        return\n",
    "    n = self.start_node\n",
    "    # traverse the list till the end\n",
    "    while n.ref is not None:\n",
    "        n= n.ref\n",
    "    n.ref = new_node;"
   ]
  },
  {
   "cell_type": "markdown",
   "metadata": {},
   "source": [
    "#### Inserting Items: after another item"
   ]
  },
  {
   "cell_type": "code",
   "execution_count": null,
   "metadata": {},
   "outputs": [],
   "source": [
    "# x is item after which you want to insert the new node\n",
    "# data is the value of the new node\n",
    "def insert_after_item(self, x, data):\n",
    "    # assign start_node to a new variable n\n",
    "    # helps us in traversing\n",
    "    n = self.start_node\n",
    "    print(n.ref)\n",
    "    \n",
    "    # traverse through the linked list\n",
    "    # until x if found\n",
    "    while n is not None:\n",
    "        if n.item == x:\n",
    "            break\n",
    "        \n",
    "        n = n.ref\n",
    "    if n is None:\n",
    "        print(\"item not in the list\")\n",
    "    else:\n",
    "        new_node = Node(data)\n",
    "        # reference of the new_node is set to \n",
    "        # reference stored by n\n",
    "        # reference of n is set to new_node\n",
    "        \n",
    "        new_node.ref = n.ref\n",
    "        n.ref = new_node"
   ]
  },
  {
   "cell_type": "code",
   "execution_count": 15,
   "metadata": {},
   "outputs": [],
   "source": [
    "# https://stackabuse.com/linked-lists-in-detail-with-python-examples-single-linked-lists/"
   ]
  },
  {
   "cell_type": "code",
   "execution_count": null,
   "metadata": {},
   "outputs": [],
   "source": []
  },
  {
   "cell_type": "code",
   "execution_count": null,
   "metadata": {},
   "outputs": [],
   "source": []
  },
  {
   "cell_type": "code",
   "execution_count": null,
   "metadata": {},
   "outputs": [],
   "source": []
  },
  {
   "cell_type": "code",
   "execution_count": null,
   "metadata": {},
   "outputs": [],
   "source": []
  },
  {
   "cell_type": "markdown",
   "metadata": {},
   "source": [
    "Combined functions"
   ]
  },
  {
   "cell_type": "code",
   "execution_count": null,
   "metadata": {},
   "outputs": [],
   "source": [
    "class LinkedList:\n",
    "    def __init__(self):\n",
    "        self.start_node = None\n",
    "        \n",
    "    def traverse_list(self):\n",
    "        if self.start_node is None:\n",
    "            print(\"List has no element\")\n",
    "            return\n",
    "        else:\n",
    "            n = self.start_node\n",
    "            while n is not None:\n",
    "                print(n.item , \" \")\n",
    "                n = n.ref\n",
    "\n",
    "    def insert_at_start(self, data):\n",
    "        new_node = Node(data)\n",
    "        new_node.ref = self.start_node\n",
    "        self.start_node= new_node\n",
    "        \n",
    "    def insert_at_end(self, data):\n",
    "        new_node = Node(data)\n",
    "        if self.start_node is None:\n",
    "            self.start_node = new_node\n",
    "            return\n",
    "        n = self.start_node\n",
    "        while n.ref is not None:\n",
    "            n= n.ref\n",
    "        n.ref = new_node;\n",
    "        \n",
    "    def insert_after_item(self, x, data):\n",
    "\n",
    "        n = self.start_node\n",
    "        print(n.ref)\n",
    "        while n is not None:\n",
    "            if n.item == x:\n",
    "                break\n",
    "            n = n.ref\n",
    "        if n is None:\n",
    "            print(\"item not in the list\")\n",
    "        else:\n",
    "            new_node = Node(data)\n",
    "            new_node.ref = n.ref\n",
    "            n.ref = new_node"
   ]
  },
  {
   "cell_type": "code",
   "execution_count": null,
   "metadata": {},
   "outputs": [],
   "source": []
  },
  {
   "cell_type": "code",
   "execution_count": null,
   "metadata": {},
   "outputs": [],
   "source": []
  },
  {
   "cell_type": "markdown",
   "metadata": {},
   "source": [
    "## Tree\n",
    "- "
   ]
  },
  {
   "cell_type": "code",
   "execution_count": null,
   "metadata": {},
   "outputs": [],
   "source": []
  },
  {
   "cell_type": "markdown",
   "metadata": {},
   "source": [
    "# References\n",
    "- https://python.swaroopch.com/data_structures.html\n",
    "- https://docs.python.org/3/tutorial/datastructures.html#using-lists-as-stacks\n",
    "\n",
    "#### Trees\n",
    "- https://www.codementor.io/@leandrotk100/everything-you-need-to-know-about-tree-data-structures-pynnlkyud\n",
    "\n",
    "#### Linked lists\n",
    "- https://stackabuse.com/linked-lists-in-detail-with-python-examples-single-linked-lists/"
   ]
  },
  {
   "cell_type": "code",
   "execution_count": null,
   "metadata": {},
   "outputs": [],
   "source": []
  }
 ],
 "metadata": {
  "kernelspec": {
   "display_name": "Python 3",
   "language": "python",
   "name": "python3"
  },
  "language_info": {
   "codemirror_mode": {
    "name": "ipython",
    "version": 3
   },
   "file_extension": ".py",
   "mimetype": "text/x-python",
   "name": "python",
   "nbconvert_exporter": "python",
   "pygments_lexer": "ipython3",
   "version": "3.7.6"
  }
 },
 "nbformat": 4,
 "nbformat_minor": 4
}
