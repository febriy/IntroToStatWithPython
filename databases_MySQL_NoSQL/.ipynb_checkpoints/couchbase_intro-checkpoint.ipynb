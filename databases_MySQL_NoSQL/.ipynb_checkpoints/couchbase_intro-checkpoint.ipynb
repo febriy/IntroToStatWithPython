{
 "cells": [
  {
   "cell_type": "markdown",
   "metadata": {},
   "source": [
    "# Connecting and interacting with couchbase"
   ]
  },
  {
   "cell_type": "markdown",
   "metadata": {},
   "source": [
    "## Installing couchbase\n",
    "Info: https://docs.couchbase.com/python-sdk/current/start-using-sdk.html\n",
    "1. Install [Couchbase Server](couchbase.com/download)\n",
    "2. Install [libcouchbase](https://fedora.pkgs.org/31/fedora-updates-aarch64/libcouchbase-2.10.5-1.fc31.aarch64.rpm.html)\n",
    "3. Install [Couchbase Python SDK](https://fedora.pkgs.org/31/fedora-x86_64/python3-couchbase-2.5.5-2.fc31.x86_64.rpm.html)"
   ]
  },
  {
   "cell_type": "markdown",
   "metadata": {},
   "source": [
    "### Configure library"
   ]
  },
  {
   "cell_type": "code",
   "execution_count": 1,
   "metadata": {},
   "outputs": [
    {
     "data": {
      "text/plain": [
       "'/home/febriyan/Documents/IntroToStatWithPython/big_data'"
      ]
     },
     "execution_count": 1,
     "metadata": {},
     "output_type": "execute_result"
    }
   ],
   "source": [
    "import os\n",
    "os.getcwd()"
   ]
  },
  {
   "cell_type": "code",
   "execution_count": 2,
   "metadata": {},
   "outputs": [
    {
     "name": "stdout",
     "output_type": "stream",
     "text": [
      "/home/febriyan/anaconda3/envs/couchbase/lib/python3.7/site-packages\n"
     ]
    }
   ],
   "source": [
    "#https://stackoverflow.com/questions/31003994/anaconda-site-packages\n",
    "from distutils.sysconfig import get_python_lib\n",
    "print(get_python_lib())"
   ]
  },
  {
   "cell_type": "code",
   "execution_count": 3,
   "metadata": {},
   "outputs": [],
   "source": [
    "import sys"
   ]
  },
  {
   "cell_type": "code",
   "execution_count": 4,
   "metadata": {},
   "outputs": [],
   "source": [
    "sys.path.append('/usr/lib64/python3.7/site-packages')\n",
    "\n",
    "#'/home/febriyan/.local/lib/python3.7/site-packages',\n",
    "# '/home/febriyan/anaconda3/envs/couchbase/lib/python3.7/site-packages',\n",
    "# '/home/febriyan/anaconda3/envs/couchbase/lib/python3.7/site-packages/IPython/extensions',\n",
    "# '/usr/lib64/python3.7/site-packages'"
   ]
  },
  {
   "cell_type": "code",
   "execution_count": 5,
   "metadata": {},
   "outputs": [
    {
     "data": {
      "text/plain": [
       "['/home/febriyan/.local/lib/python3.7/site-packages',\n",
       " '/home/febriyan/anaconda3/envs/couchbase/lib/python3.7/site-packages',\n",
       " '/home/febriyan/anaconda3/envs/couchbase/lib/python3.7/site-packages/IPython/extensions',\n",
       " '/usr/lib64/python3.7/site-packages']"
      ]
     },
     "execution_count": 5,
     "metadata": {},
     "output_type": "execute_result"
    }
   ],
   "source": [
    "[p for p in sys.path if 'site-packages' in p]"
   ]
  },
  {
   "cell_type": "code",
   "execution_count": 6,
   "metadata": {},
   "outputs": [],
   "source": [
    "import couchbase"
   ]
  },
  {
   "cell_type": "code",
   "execution_count": 7,
   "metadata": {},
   "outputs": [
    {
     "data": {
      "text/plain": [
       "'2.5.5'"
      ]
     },
     "execution_count": 7,
     "metadata": {},
     "output_type": "execute_result"
    }
   ],
   "source": [
    "couchbase.__version__"
   ]
  },
  {
   "cell_type": "markdown",
   "metadata": {},
   "source": [
    "### Set up a cluster\n",
    "- Learn to do it from python\n",
    "- https://docs.couchbase.com/server/5.0/install/init-setup.html\n",
    "\n",
    "Current method:\n",
    "- Open http://localhost:8091 (The Couchbase Web Console is, by default, available on port 8091)\n",
    "- Select 'Setup New Cluster'\n",
    " - Give a cluster name\n",
    " - Create Admin Username and Password"
   ]
  },
  {
   "cell_type": "markdown",
   "metadata": {},
   "source": [
    "### Create admin - admin can access and modify cluster/ bucket\n",
    "- The Admin class may be used to create and delete buckets from the Couchbase cluster. \n",
    "- Instantiated using the administrative username and password, followed by a cluster node."
   ]
  },
  {
   "cell_type": "code",
   "execution_count": 8,
   "metadata": {},
   "outputs": [],
   "source": [
    "# https://docs.couchbase.com/python-sdk/current/managing-clusters.html\n",
    "from couchbase.admin import Admin\n",
    "adm = Admin('Administrator', '123456', host='localhost', port=8091)"
   ]
  },
  {
   "cell_type": "markdown",
   "metadata": {},
   "source": [
    "### Create bucket\n",
    "Other parameters\n",
    "- bucket_password: If specified, makes this bucket password protected, forcing future connects (using the Bucket) class to enter password\n",
    "- flush_enabled: Enables Bucket.flush() to remove all bucket content"
   ]
  },
  {
   "cell_type": "code",
   "execution_count": 18,
   "metadata": {},
   "outputs": [
    {
     "data": {
      "text/plain": [
       "HttpResult<rc=0x0, value=None, http_status=202, url=/pools/default/buckets, tracing_context=0, tracing_output=None>"
      ]
     },
     "execution_count": 18,
     "metadata": {},
     "output_type": "execute_result"
    }
   ],
   "source": [
    "adm.bucket_create('bucket_1',bucket_type='couchbase',)"
   ]
  },
  {
   "cell_type": "code",
   "execution_count": 19,
   "metadata": {},
   "outputs": [],
   "source": [
    "# https://docs.couchbase.com/python-sdk/2.4/managing-connections.html#connecting-to-a-bucket\n",
    "from couchbase.cluster import Cluster\n",
    "from couchbase.cluster import PasswordAuthenticator\n",
    "cluster = Cluster('couchbase://localhost')"
   ]
  },
  {
   "cell_type": "code",
   "execution_count": 20,
   "metadata": {},
   "outputs": [],
   "source": [
    "authenticator = PasswordAuthenticator('Administrator', '123456')\n",
    "cluster.authenticate(authenticator)"
   ]
  },
  {
   "cell_type": "markdown",
   "metadata": {},
   "source": [
    "### Create the bucket"
   ]
  },
  {
   "cell_type": "code",
   "execution_count": 21,
   "metadata": {},
   "outputs": [],
   "source": [
    "bucket = cluster.open_bucket('bucket_1')"
   ]
  },
  {
   "cell_type": "code",
   "execution_count": 22,
   "metadata": {},
   "outputs": [
    {
     "data": {
      "text/plain": [
       "<couchbase.bucket.Bucket bucket=bucket_1, nodes=['localhost:8091'] at 0x7f56a014e9f0>"
      ]
     },
     "execution_count": 22,
     "metadata": {},
     "output_type": "execute_result"
    }
   ],
   "source": [
    "bucket"
   ]
  },
  {
   "cell_type": "markdown",
   "metadata": {},
   "source": [
    "## Document\n",
    "- A document refers to an entry in the database (equivalent to row)\n",
    "- A document has an ID (_primary key_ in other databases), unique to the document and by which it can be located\n",
    "- It also has a value which contains the actual data\n",
    "- More info: https://docs.couchbase.com/python-sdk/current/core-operations.html"
   ]
  },
  {
   "cell_type": "markdown",
   "metadata": {},
   "source": [
    "## Primitive Key-Value Operations\n",
    "- upsert(docid, document) - will always replace the document, ignoring whether the ID has already existed or not\n",
    "- insert(docid, document) - will create document if ID is not found\n",
    "- replace(docid, document) - will create document if ID already exists within the database\n",
    "- get(docid) - retrieve documents\n",
    "- remove(docid) - remove documents"
   ]
  },
  {
   "cell_type": "markdown",
   "metadata": {},
   "source": [
    "### Use bucket.upsert to add data to couchbase"
   ]
  },
  {
   "cell_type": "code",
   "execution_count": 23,
   "metadata": {},
   "outputs": [
    {
     "data": {
      "text/plain": [
       "OperationResult<rc=0x0, key='entry_1', cas=0x1605ab194d560000, tracing_context=0, tracing_output={'s': 'kv:Unknown', 'c': '00000000ac9a627b/65d5e595acd83990', 'i': 15589741830363625534, 'b': 'bucket_1', 'l': '127.0.0.1:51336', 'r': 'localhost:11210', 't': 2500000}>"
      ]
     },
     "execution_count": 23,
     "metadata": {},
     "output_type": "execute_result"
    }
   ],
   "source": [
    "bucket.upsert('entry_1',{\n",
    "    \"type\": \"product\",\n",
    "    \"sku\": \"CBSRV45DP\",\n",
    "    \"msrp\": [5.49, \"USD\"],\n",
    "    \"ctime\": \"092011\",\n",
    "    \"mfg\": \"couchbase\",\n",
    "    \"tags\": [\"server\", \"database\", \"couchbase\", \"nosql\", \"fast\", \"json\", \"awesome\"]\n",
    "})"
   ]
  },
  {
   "cell_type": "markdown",
   "metadata": {},
   "source": [
    "### Retrieve Documents"
   ]
  },
  {
   "cell_type": "code",
   "execution_count": 26,
   "metadata": {},
   "outputs": [],
   "source": [
    "result = bucket.get('entry_1')"
   ]
  },
  {
   "cell_type": "code",
   "execution_count": 27,
   "metadata": {},
   "outputs": [
    {
     "name": "stdout",
     "output_type": "stream",
     "text": [
      "{'type': 'product', 'sku': 'CBSRV45DP', 'msrp': [5.49, 'USD'], 'ctime': '092011', 'mfg': 'couchbase', 'tags': ['server', 'database', 'couchbase', 'nosql', 'fast', 'json', 'awesome']}\n"
     ]
    }
   ],
   "source": [
    "print (result.value)"
   ]
  },
  {
   "cell_type": "markdown",
   "metadata": {},
   "source": [
    "### Flushing Buckets\n",
    "- flushing bucket will remove all content\n",
    "- As this is potentially dangerous, this function is disabled by default for each bucket\n",
    "- Enable bucket flushing in the Couchbase Web console or when creating a bucket"
   ]
  },
  {
   "cell_type": "code",
   "execution_count": 16,
   "metadata": {},
   "outputs": [
    {
     "data": {
      "text/plain": [
       "HttpResult<rc=0x0, value=None, http_status=200, url=/pools/default/buckets/bucket_1/controller/doFlush, tracing_context=0, tracing_output=None>"
      ]
     },
     "execution_count": 16,
     "metadata": {},
     "output_type": "execute_result"
    }
   ],
   "source": [
    "bucket.flush()"
   ]
  },
  {
   "cell_type": "markdown",
   "metadata": {},
   "source": [
    "### Remove bucket"
   ]
  },
  {
   "cell_type": "code",
   "execution_count": 17,
   "metadata": {},
   "outputs": [
    {
     "data": {
      "text/plain": [
       "HttpResult<rc=0x0, value=None, http_status=200, url=/pools/default/buckets/bucket_1, tracing_context=0, tracing_output=None>"
      ]
     },
     "execution_count": 17,
     "metadata": {},
     "output_type": "execute_result"
    }
   ],
   "source": [
    "adm.bucket_remove('bucket_1')"
   ]
  },
  {
   "cell_type": "markdown",
   "metadata": {},
   "source": [
    "### Querying with curl"
   ]
  },
  {
   "cell_type": "code",
   "execution_count": null,
   "metadata": {},
   "outputs": [],
   "source": [
    "# QUERY service is at port 8093\n",
    "\n",
    "# Create user with access control\n",
    "!https://blog.couchbase.com/using-role-based-access-control-in-n1ql/\n",
    "\n",
    "# Create primary index\n",
    "!curl -v http://localhost:8093/query/service -d 'statement=CREATE PRIMARY INDEX `primary-index` ON `bucket_1` USING GSI' -u arvin\n",
    "\n",
    "# Query\n",
    "!curl -v http://localhost:8093/query/service -d 'statement=SELECT * FROM bucket_1 LIMIT 1' -u arvin\n",
    "\n",
    "# Upsert\n",
    "!curl -v http://localhost:8093/query/service -d 'statement=UPSERT INTO bucket_1 (KEY, VALUE) VALUES (\"odwalla-juice1\", { \"productId\": \"odwalla-juice1\",  \"unitPrice\": 5.40, \"type\": \"product\", \"color\":\"red\"}) RETURNING * ;' -u arvin\n"
   ]
  },
  {
   "cell_type": "markdown",
   "metadata": {},
   "source": [
    "### Batching using Python SDK\n",
    "https://docs.couchbase.com/python-sdk/2.5/batching-operations.html"
   ]
  },
  {
   "cell_type": "markdown",
   "metadata": {},
   "source": [
    "# Reference\n",
    "- https://developer.couchbase.com/documentation/server/3.x/developer/dev-guide-3.0/dev-env.html\n",
    "- https://docs.couchbase.com/python-sdk/current/core-operations.html\n",
    "- https://developer.couchbase.com/documentation/server/3.x/developer/dev-guide-3.0/write-json.html\n",
    "- https://docs.couchbase.com/server/current/n1ql/n1ql-language-reference/curl.html"
   ]
  },
  {
   "cell_type": "code",
   "execution_count": null,
   "metadata": {},
   "outputs": [],
   "source": []
  }
 ],
 "metadata": {
  "kernelspec": {
   "display_name": "Python 3",
   "language": "python",
   "name": "python3"
  },
  "language_info": {
   "codemirror_mode": {
    "name": "ipython",
    "version": 3
   },
   "file_extension": ".py",
   "mimetype": "text/x-python",
   "name": "python",
   "nbconvert_exporter": "python",
   "pygments_lexer": "ipython3",
   "version": "3.7.7"
  }
 },
 "nbformat": 4,
 "nbformat_minor": 4
}
