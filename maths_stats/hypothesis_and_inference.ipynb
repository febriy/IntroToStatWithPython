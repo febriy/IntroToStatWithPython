{
 "cells": [
  {
   "cell_type": "markdown",
   "metadata": {},
   "source": [
    "# Hypothesis and Inference\n",
    "- Science in general seek to find the truth. In stats, we use numbers to explain the population. \n",
    "- Most of the time, we can't actually figure out the truth about the population. It is simply too big (too many humans to interview, too many vehicles to count, etc)\n",
    "- so we take samples and conduct analysis on them. And we suppose that the population behave similarly compared to the sample i.e. statistical attributes of the samples can apply to the population. \n",
    "- Once a certain belief about population is accertained, there will be opposition. \n",
    " - \"how could be trust the established norm?\"\n",
    "- In such situation, the burden is on the scientist to give enough evidence to reject the current belief. \n",
    "- Hypothesis testing is the process to do this."
   ]
  },
  {
   "cell_type": "markdown",
   "metadata": {},
   "source": [
    "## Statistical Hypothesis Testing Steps\n",
    "1. State the hypothesis\n",
    "2. Set decision criteria\n",
    "3. Compute test stats\n",
    "4. Make decision"
   ]
  },
  {
   "cell_type": "markdown",
   "metadata": {},
   "source": [
    "## 1. State the hypothesis\n",
    "We will go through the process with the coin flip example\n",
    "\n",
    "hypothesis: a premise (or claim) that we want to test/ investigate\n",
    " - H0 - null hypothesis: the default/ the established/ the currently accepted value for a parameter\n",
    "  - e.g. from previous studies\n",
    " - Ha - alternative hypothesis: also called the researche hypothesis. Involve the claim to be tested. NOTE that we are testing H0 because we think it is wrong. \n",
    " - Note that the H0 and Ha are mathematical opposites.\n",
    "  - The alternative alternative is simply what the null hypothesis is not.\n",
    " - we will assume first that the null hypothesis is true until evidence suggest otherwise"
   ]
  },
  {
   "cell_type": "markdown",
   "metadata": {},
   "source": [
    "| Layman | Stats |\n",
    "| --- | --- | \n",
    "| Current Belief: the coin is fair | H0: p(lands heads) = 0.5 |\n",
    "| Alternate belief: the coin is NOT fair | Ha: p(lands heads) != 0.5 |"
   ]
  },
  {
   "cell_type": "markdown",
   "metadata": {},
   "source": [
    "NOTE that we do not assert that p(lands heads) = 0.51 or any other value. The alternate hypothesis is the OPPOSITE of the null hypothesis"
   ]
  },
  {
   "cell_type": "markdown",
   "metadata": {},
   "source": [
    "Now, we will conduct the test by collecting sample\n",
    "\n",
    "Possible outcomes:\n",
    "- Reject the null hypothesis\n",
    " - we are not saying that the alternative is the truth. we are saying that it is more true than the null. \n",
    " - we can't really prove that something is true. \n",
    "- fail to reject the null hypothesis\n",
    " - still 'king of the hill' till a new contender comes along"
   ]
  },
  {
   "cell_type": "markdown",
   "metadata": {},
   "source": [
    "## 2. Set decision criteria\n",
    "- Science place a conservative standard to meet for a researcher to claim that he/she has made an important discovery (rejecting the current belief/ null hypothesis.\n",
    "- we set a standard value alpha, with a conventionally accepted conservative value of .05\n",
    "- How do we understand this value?\n",
    " - Assuming that the null hypothesis is true (p(lands heads) is indeed 0.5),\n",
    " - an alpha set to .05 means that we may reject the null if the observed data (from the sample) are so unusual that they would have occured by chance at most 5% of the time. \n",
    " - i.e. reject the notion that \"the coin is fair\" if, from the observed data, we find that p(lands heads) = 0.3 or 0.2 or 0.8. These are so rare that if we observe this, we can't be sure of the null anymore. \n",
    " - the smaller the alpha, the more stringent the test (more unlikely to find a statistically significant result)"
   ]
  },
  {
   "cell_type": "markdown",
   "metadata": {},
   "source": [
    "## 3. Compute test stats\n",
    "- once alpha has been set, a statistic is computed e.g. probability in this case, but could be mean, correlation etc. \n",
    "- each statistic has an associated probability value called p-value\n",
    " - p-value: the probability that a particular observed statistic occuring due to chance, given the sampling distribution\n",
    " - i.e different distribution have different p value\n",
    " - e.g. in a normal distribution, the chance that a value is close to the mean is very high, but the chance that a value is far away from mean (e.g. mean + 2*std) is very low"
   ]
  },
  {
   "cell_type": "markdown",
   "metadata": {},
   "source": [
    "### Make decision\n",
    "Now we use alpha and p-value\n",
    "- alpha sets the standard for how extreme the data must be before we can reject the null hypothesis\n",
    " - e.g. must happen only 0.05 of the time\n",
    "- p-value indicates how extreme the data ARE. \n",
    "- compare p-value with alpha to determine if the observed data are statistically different from the null. \n",
    " - p-value <= alpha. reject null hypothesis. result is statistically significant (we are sure that there is something besides chance alone that gave us an observed sample\n",
    " - p-value > alpha. fail to reject null hypothesis. we are reasonably sure that our observed data can be explained by chance alone. "
   ]
  },
  {
   "cell_type": "markdown",
   "metadata": {},
   "source": [
    "## Back to the coin flip example\n",
    "1&2. hypothesis is made, and we can set alpha as .05\n",
    "\n",
    "Testing:\n",
    "- Flip coin some number n times, count the number of heads X\n",
    "- Each coin flip is a Bernoulli/ binomial trial (random trial with exactly two possible outcomes), \n",
    " - X ~ Binomial(n,p) random variable,\n",
    " - which we can _approximate using the normal distribution_ (from Central Limit Theorem)"
   ]
  },
  {
   "cell_type": "code",
   "execution_count": 11,
   "metadata": {},
   "outputs": [],
   "source": [
    "def normal_approximation_to_binomial(n, p):\n",
    "    \"\"\"finds mu and sigma corresponding to a Binomial(n, p)\"\"\"\n",
    "    mu = p * n\n",
    "    sigma = math.sqrt(p * (1 - p) * n)\n",
    "    return mu, sigma"
   ]
  },
  {
   "cell_type": "markdown",
   "metadata": {},
   "source": [
    " - Remember: Whenever a random variable follows a normal distribution, \n",
    " - we can use normal_cdf to __figure out the probability that its realized value lies within (or outside) a particular interval.__\n",
    "\n",
    "It is the difference in the area under cdf"
   ]
  },
  {
   "cell_type": "markdown",
   "metadata": {},
   "source": [
    "# Reference\n",
    "- Chapter 7 of Data Science From Scratch\n",
    "- https://www.youtube.com/watch?v=VK-rnA3-41c&feature=youtu.be\n",
    "- https://www.thoughtco.com/the-difference-between-alpha-and-p-values-3126420\n",
    "- https://www.sagepub.com/sites/default/files/upm-binaries/40007_Chapter8.pdf\n",
    "- https://courses.washington.edu/p209s07/lecturenotes/Week%205_Monday%20overheads.pdf\n",
    "- https://stats.stackexchange.com/questions/21581/how-to-assess-whether-a-coin-tossed-900-times-and-comes-up-heads-490-times-is-bi\n",
    "- https://ipython-books.github.io/72-getting-started-with-statistical-hypothesis-testing-a-simple-z-test/"
   ]
  },
  {
   "cell_type": "code",
   "execution_count": null,
   "metadata": {},
   "outputs": [],
   "source": []
  }
 ],
 "metadata": {
  "kernelspec": {
   "display_name": "Python 3",
   "language": "python",
   "name": "python3"
  },
  "language_info": {
   "codemirror_mode": {
    "name": "ipython",
    "version": 3
   },
   "file_extension": ".py",
   "mimetype": "text/x-python",
   "name": "python",
   "nbconvert_exporter": "python",
   "pygments_lexer": "ipython3",
   "version": "3.7.6"
  }
 },
 "nbformat": 4,
 "nbformat_minor": 2
}
