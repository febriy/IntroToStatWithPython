{
 "cells": [
  {
   "cell_type": "markdown",
   "metadata": {},
   "source": [
    "## Data Transformation"
   ]
  },
  {
   "cell_type": "markdown",
   "metadata": {},
   "source": [
    "## Standardisation"
   ]
  },
  {
   "cell_type": "markdown",
   "metadata": {},
   "source": [
    "Imagine that you want to compare two datasets using two scales of measurements. In our dataset, we have the averageTotalQuantity ranging from 0 to 20000 while the meanPrice ranges from 0 to 300. \n",
    "\n",
    "How can we reasonably compare their distributions?\n",
    "\n",
    "Standardisation is a method to shift our distribution and make it closer to the Gaussian distribution. The result of standardisation is distribution mean of 0 with the measure of spread representing the different distributions. \n",
    "\n",
    "This means that we can now compare different distributions based on their standard deviation. In this case, one standard deviation is named as the Z-score. \n",
    "\n",
    "Standardisation is especially important especially when further analysis requires comparison of euclidean distance. "
   ]
  },
  {
   "cell_type": "markdown",
   "metadata": {},
   "source": [
    "## Normalisation"
   ]
  },
  {
   "cell_type": "markdown",
   "metadata": {},
   "source": [
    "The motivation for normalisation is similar to standardisation, which is to shift a particular distribution to a particular scale of choice. In normalisation, we can choose the range of resulting values from the initial distribution. This said, the typical range of value is from 0 to 1. \n",
    "\n",
    "This means that compared to standardisation, in normalisation we can limit the range, and therefore it will have greater impact on outliers. "
   ]
  },
  {
   "cell_type": "code",
   "execution_count": null,
   "metadata": {},
   "outputs": [],
   "source": []
  }
 ],
 "metadata": {
  "kernelspec": {
   "display_name": "Python 3",
   "language": "python",
   "name": "python3"
  },
  "language_info": {
   "codemirror_mode": {
    "name": "ipython",
    "version": 3
   },
   "file_extension": ".py",
   "mimetype": "text/x-python",
   "name": "python",
   "nbconvert_exporter": "python",
   "pygments_lexer": "ipython3",
   "version": "3.6.9"
  }
 },
 "nbformat": 4,
 "nbformat_minor": 2
}
